{
  "nbformat": 4,
  "nbformat_minor": 0,
  "metadata": {
    "colab": {
      "name": "Python Practice_Test 1.ipynb",
      "provenance": [],
      "collapsed_sections": [],
      "toc_visible": true,
      "authorship_tag": "ABX9TyM4FnvHI8XglDVM/cl/MM55",
      "include_colab_link": true
    },
    "kernelspec": {
      "name": "python3",
      "display_name": "Python 3"
    },
    "language_info": {
      "name": "python"
    }
  },
  "cells": [
    {
      "cell_type": "markdown",
      "metadata": {
        "id": "view-in-github",
        "colab_type": "text"
      },
      "source": [
        "<a href=\"https://colab.research.google.com/github/Wonmi2/DeepLearning_Practice/blob/main/_Basic/Python_Practice_Test_1.ipynb\" target=\"_parent\"><img src=\"https://colab.research.google.com/assets/colab-badge.svg\" alt=\"Open In Colab\"/></a>"
      ]
    },
    {
      "cell_type": "code",
      "metadata": {
        "id": "OKKr3o_i3MP8",
        "colab": {
          "base_uri": "https://localhost:8080/"
        },
        "outputId": "1337d9e0-e1fd-4d09-cde9-cbe5afc82652"
      },
      "source": [
        "print(\"Hello World\")"
      ],
      "execution_count": null,
      "outputs": [
        {
          "output_type": "stream",
          "text": [
            "Hello World\n"
          ],
          "name": "stdout"
        }
      ]
    },
    {
      "cell_type": "markdown",
      "metadata": {
        "id": "aNT3i6817mb4"
      },
      "source": [
        "# 마크다운 연습\n",
        "## 보통 복사 붙여넣기로 사용\n",
        "\n",
        "# 큰 제목\n",
        "## 중간 제목\n",
        "### 소제목\n",
        "\n",
        "* 볼드\n",
        "* 볼드\n",
        "\n",
        "> 막대 표시\n",
        ">> 막대 표시 2\n",
        "\n",
        "\n"
      ]
    },
    {
      "cell_type": "markdown",
      "metadata": {
        "id": "pjIX06sOFb-p"
      },
      "source": [
        "예약어 | 예약어\n",
        "----- | -----\n",
        "False|None\n",
        "True|and\n",
        "as|assert\n",
        "break|class\n",
        "continue|def\n",
        "del|elif\n",
        "else|except\n",
        "finally|for\n",
        "from|global\n",
        "if|import\n",
        "in|is\n",
        "lambda|nonlocal\n",
        "not|or\n",
        "pass|raise\n",
        "return|try\n",
        "while|with\n",
        "yield"
      ]
    },
    {
      "cell_type": "markdown",
      "metadata": {
        "id": "CjivY38cE8SR"
      },
      "source": [
        "# 표현식(Expression) =평가식 =식\n",
        "* 일종의 값\n",
        "* 값들과 연산자를 함께 사용해서 표현한 것\n",
        "\n",
        "# 구문(Statement) =문\n",
        "> 예약어와 표현식을 결합한 패턴\n",
        "\n",
        "> 컴퓨터가 수행해야 하는 하나의 단일 작업을 말함\n",
        "\n",
        "* 할당 = 바인딩 : 어떤 값에 이름을 붙이는 작업\n",
        "* 선언 = 정의 : 재사용이 가능한 독립적 단위를 정의 (클래스 정의 등)\n",
        "* 블럭 : 여러 구문이 순서대로 나열된 덩어리, 여러 줄의 구문으로 구성\n",
        "\n",
        "* 조건(분기) : 조건에 따라 수행할 작업을 나눌때 사용(if)\n",
        "* 반복문 : 특정한 작업을 반복수행할 때 사용(for문 & while문)\n",
        "\n",
        "* 예외 처리\n",
        "\n",
        "# 자료형 = 값(Type)\n",
        "> 컴퓨터에서는 이진수를 사용해서 값을 표현하고 관리함\n",
        "\n",
        "> 숫자형 = numeric\n",
        "* 산술 연산을 적용할 수 있는 값\n",
        "* int : 소수점 이하의 자리가 없는 정수\n",
        "* float : 부동소수\n",
        "* 복소수\n",
        "\n",
        "# 문자, 문자열(String)\n",
        "* 숫자\"1\",\"a\",\"A\"와 같이 하나의 낱자를 문자라 함\n",
        "* byte, bytearry\n",
        "\n",
        "# 논리형 Boolean\n",
        "* 참/거짓을 뜻하는 대수값\n",
        "* 보통 0 = 거짓(False)\n",
        "* 1 = 참(True)\n",
        "\n",
        "---\n",
        "# 연산\n",
        "\n",
        "### 산술연산 - 계산기\n",
        "### 비교연산 - 동등 및 대소 비교\n",
        "* 문자열에 대해서도 적용 가능\n",
        "\n",
        "### 비트연산\n",
        "### 멤버십 연산\n",
        "* is, is not\n",
        "* in, not in\n",
        "\n",
        "### 논리 연산 = 일종의 비교연산\n",
        "* 결과는 참/거짓\n",
        "\n",
        "\n"
      ]
    },
    {
      "cell_type": "markdown",
      "metadata": {
        "id": "kgc4GINnJfT5"
      },
      "source": [
        "---\n",
        "# PEP8(파이썬 코딩 권장사항)\n",
        "1. 들여쓰기에 4-space사용\n",
        "2. 79자 넘지 않기\n",
        "3. 함수,클래스,함수 내의 큰 코드블록 사이에 빈줄을 넣어 분리\n",
        "4. 연산자들 주변에 콤마 뒤 스페이스\n",
        "5. 일관성있는 클래스, 함수 명명\n",
        "6. 특별한 인코딩 사용하지 말 것\n",
        "7. 식별자에 ASCII 이외의 문자를 사용하지 말 것\n",
        "\n",
        "---"
      ]
    },
    {
      "cell_type": "code",
      "metadata": {
        "id": "HDmGPsi9408Q"
      },
      "source": [
        " a = 23 "
      ],
      "execution_count": null,
      "outputs": []
    },
    {
      "cell_type": "markdown",
      "metadata": {
        "id": "MTmy3eFQLfJY"
      },
      "source": [
        ""
      ]
    }
  ]
}