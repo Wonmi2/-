{
  "nbformat": 4,
  "nbformat_minor": 0,
  "metadata": {
    "colab": {
      "name": "Python Practice_Test 1.ipynb",
      "provenance": [],
      "collapsed_sections": [],
      "toc_visible": true,
      "authorship_tag": "ABX9TyOuHSdnBxV9yN+WzBBuqVQF",
      "include_colab_link": true
    },
    "kernelspec": {
      "name": "python3",
      "display_name": "Python 3"
    },
    "language_info": {
      "name": "python"
    }
  },
  "cells": [
    {
      "cell_type": "markdown",
      "metadata": {
        "id": "view-in-github",
        "colab_type": "text"
      },
      "source": [
        "<a href=\"https://colab.research.google.com/github/Wonmi2/DeepLearning_Practice/blob/main/_Basic/Python_Practice_Test_1.ipynb\" target=\"_parent\"><img src=\"https://colab.research.google.com/assets/colab-badge.svg\" alt=\"Open In Colab\"/></a>"
      ]
    },
    {
      "cell_type": "code",
      "metadata": {
        "id": "OKKr3o_i3MP8",
        "colab": {
          "base_uri": "https://localhost:8080/"
        },
        "outputId": "1337d9e0-e1fd-4d09-cde9-cbe5afc82652"
      },
      "source": [
        "print(\"Hello World\")"
      ],
      "execution_count": null,
      "outputs": [
        {
          "output_type": "stream",
          "text": [
            "Hello World\n"
          ],
          "name": "stdout"
        }
      ]
    },
    {
      "cell_type": "markdown",
      "metadata": {
        "id": "aNT3i6817mb4"
      },
      "source": [
        "# 마크다운 연습\n",
        "## 보통 복사 붙여넣기로 사용\n",
        "\n",
        "# 큰 제목\n",
        "## 중간 제목\n",
        "### 소제목\n",
        "\n",
        "* 볼드\n",
        "* 볼드\n",
        "\n",
        "> 막대 표시\n",
        ">> 막대 표시 2\n",
        "\n",
        "\n"
      ]
    },
    {
      "cell_type": "code",
      "metadata": {
        "id": "HDmGPsi9408Q"
      },
      "source": [
        ""
      ],
      "execution_count": null,
      "outputs": []
    }
  ]
}